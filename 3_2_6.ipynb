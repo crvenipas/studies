{
 "cells": [
  {
   "cell_type": "code",
   "execution_count": null,
   "id": "7cd4e64e",
   "metadata": {},
   "outputs": [],
   "source": [
    "s = input().lower().split()\n",
    "d = {}\n",
    "\n",
    "i = 0\n",
    "while i < len(s):\n",
    "    count = s.count(s[i])\n",
    "    d.update({s[i] : count})\n",
    "    i += 1\n",
    "    \n",
    "for key, value in d.items():\n",
    "    print(key, value, sep=' ')\n",
    "\n",
    "'''Программа должна считывать одну строку \n",
    "со стандартного ввода и выводить для каждого\n",
    "уникального слова в этой строке число его \n",
    "повторений (без учёта регистра) в формате \"слово количество \\n\"'''"
   ]
  }
 ],
 "metadata": {
  "kernelspec": {
   "display_name": "Python 3",
   "language": "python",
   "name": "python3"
  },
  "language_info": {
   "codemirror_mode": {
    "name": "ipython",
    "version": 3
   },
   "file_extension": ".py",
   "mimetype": "text/x-python",
   "name": "python",
   "nbconvert_exporter": "python",
   "pygments_lexer": "ipython3",
   "version": "3.9.5"
  }
 },
 "nbformat": 4,
 "nbformat_minor": 5
}
