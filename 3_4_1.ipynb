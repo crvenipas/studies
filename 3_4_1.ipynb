{
 "cells": [
  {
   "cell_type": "code",
   "execution_count": 51,
   "id": "8aeb7f39",
   "metadata": {},
   "outputs": [],
   "source": [
    "import re\n",
    "\n",
    "with open('dataset_3363.txt') as f:\n",
    "    for l in f:\n",
    "        l = l.strip()\n",
    "        #print(l)        \n",
    "\n",
    "l=str(l)\n",
    "n_list = re.split(r'\\d+', l)\n",
    "l_list = re.findall(r'\\d+', l)\n",
    "\n",
    "l_list = list(map(int, l_list))\n",
    "            \n",
    "n_list.pop()\n",
    "\n",
    "res = []\n",
    "for i in range(0, len(n_list)):\n",
    "    res.append(n_list[i]*l_list[i])\n",
    "\n",
    "res = ''.join(res)\n",
    "\n",
    "with open('res_dataset_1.txt', 'w') as r:\n",
    "    r.write(res)"
   ]
  },
  {
   "cell_type": "code",
   "execution_count": null,
   "id": "dc69a5b0",
   "metadata": {},
   "outputs": [],
   "source": []
  }
 ],
 "metadata": {
  "kernelspec": {
   "display_name": "Python 3",
   "language": "python",
   "name": "python3"
  },
  "language_info": {
   "codemirror_mode": {
    "name": "ipython",
    "version": 3
   },
   "file_extension": ".py",
   "mimetype": "text/x-python",
   "name": "python",
   "nbconvert_exporter": "python",
   "pygments_lexer": "ipython3",
   "version": "3.9.5"
  }
 },
 "nbformat": 4,
 "nbformat_minor": 5
}
