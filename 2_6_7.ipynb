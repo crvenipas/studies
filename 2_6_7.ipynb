{
 "cells": [
  {
   "cell_type": "code",
   "execution_count": 22,
   "id": "6accd643",
   "metadata": {},
   "outputs": [
    {
     "name": "stdout",
     "output_type": "stream",
     "text": [
      "1\n",
      "-3\n",
      "5\n",
      "-6\n",
      "-10\n",
      "13\n",
      "340\n"
     ]
    }
   ],
   "source": [
    "n = [int(input())]\n",
    "x = 0\n",
    "\n",
    "while sum(n) != 0:\n",
    "    n.append(int(input()))\n",
    "for i in n:\n",
    "    i *= i\n",
    "    x+= i  \n",
    "print(x)\n",
    "\n",
    "'''Напишите программу, которая считывает с консоли\n",
    "числа (по одному в строке) до тех пор, пока сумма\n",
    "введённых чисел не будет равна 0 и сразу после\n",
    "этого выводит сумму квадратов всех считанных чисел.'''"
   ]
  },
  {
   "cell_type": "markdown",
   "id": "e5cd10eb",
   "metadata": {},
   "source": []
  },
  {
   "cell_type": "code",
   "execution_count": null,
   "id": "42c6e236",
   "metadata": {},
   "outputs": [],
   "source": []
  }
 ],
 "metadata": {
  "kernelspec": {
   "display_name": "Python 3",
   "language": "python",
   "name": "python3"
  },
  "language_info": {
   "codemirror_mode": {
    "name": "ipython",
    "version": 3
   },
   "file_extension": ".py",
   "mimetype": "text/x-python",
   "name": "python",
   "nbconvert_exporter": "python",
   "pygments_lexer": "ipython3",
   "version": "3.9.5"
  }
 },
 "nbformat": 4,
 "nbformat_minor": 5
}
