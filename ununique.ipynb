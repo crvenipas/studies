{
 "cells": [
  {
   "cell_type": "code",
   "execution_count": 14,
   "id": "1ee0e863",
   "metadata": {},
   "outputs": [
    {
     "name": "stdout",
     "output_type": "stream",
     "text": [
      "1 1 9 8 8 3 4 5 5\n",
      "[8, 1, 5]\n"
     ]
    }
   ],
   "source": [
    "a=[int(i) for i in input().split()]\n",
    "n = []\n",
    "\n",
    "for x in a:\n",
    "    if a.count(x) > 1:\n",
    "        n.append(x)\n",
    "        \n",
    "print(list(set(n)))"
   ]
  },
  {
   "cell_type": "markdown",
   "id": "f49fddc0",
   "metadata": {},
   "source": []
  },
  {
   "cell_type": "code",
   "execution_count": null,
   "id": "6883503d",
   "metadata": {},
   "outputs": [],
   "source": []
  },
  {
   "cell_type": "code",
   "execution_count": null,
   "id": "58b2c078",
   "metadata": {},
   "outputs": [],
   "source": []
  }
 ],
 "metadata": {
  "kernelspec": {
   "display_name": "Python 3",
   "language": "python",
   "name": "python3"
  },
  "language_info": {
   "codemirror_mode": {
    "name": "ipython",
    "version": 3
   },
   "file_extension": ".py",
   "mimetype": "text/x-python",
   "name": "python",
   "nbconvert_exporter": "python",
   "pygments_lexer": "ipython3",
   "version": "3.9.5"
  }
 },
 "nbformat": 4,
 "nbformat_minor": 5
}
