{
 "cells": [
  {
   "cell_type": "code",
   "execution_count": 6,
   "id": "913de6b9",
   "metadata": {},
   "outputs": [],
   "source": [
    "def update_dictionary(d, key, value):\n",
    "    if key in d.keys():\n",
    "        d[key] += [value]\n",
    "    else:\n",
    "        if (2 * key) in d.keys():\n",
    "            d[2 * key] += [value]\n",
    "        else:\n",
    "            d[2 * key] = []\n",
    "            d[2 * key] += [value]\n",
    "            \n",
    "'''Напишите функцию update_dictionary(d, key, value), \n",
    "которая принимает на вход словарь d и два числа: \n",
    "key и value. Если ключ key есть в словаре d, то добавьте\n",
    "значение value в список, который хранится по этому ключу.\n",
    "Если ключа key нет в словаре, то нужно добавить значение\n",
    "в список по ключу 2∗key. Если и ключа 2∗key нет, то нужно \n",
    "добавить ключ 2∗key в словарь и сопоставить \n",
    "ему список из переданного элемента [value] .'''\n"
   ]
  },
  {
   "cell_type": "code",
   "execution_count": null,
   "id": "60596bf8",
   "metadata": {},
   "outputs": [],
   "source": []
  }
 ],
 "metadata": {
  "kernelspec": {
   "display_name": "Python 3",
   "language": "python",
   "name": "python3"
  },
  "language_info": {
   "codemirror_mode": {
    "name": "ipython",
    "version": 3
   },
   "file_extension": ".py",
   "mimetype": "text/x-python",
   "name": "python",
   "nbconvert_exporter": "python",
   "pygments_lexer": "ipython3",
   "version": "3.9.5"
  }
 },
 "nbformat": 4,
 "nbformat_minor": 5
}
