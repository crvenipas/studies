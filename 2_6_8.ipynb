{
 "cells": [
  {
   "cell_type": "code",
   "execution_count": 49,
   "id": "e7465eb4",
   "metadata": {},
   "outputs": [
    {
     "name": "stdout",
     "output_type": "stream",
     "text": [
      "7\n",
      "1 2 2 3 3 3 4\n"
     ]
    }
   ],
   "source": [
    "n = int(input())\n",
    "\n",
    "if n != 1: \n",
    "    a = []\n",
    "    for i in range(1,n):\n",
    "        a.append([i]*i)\n",
    "\n",
    "    b = []\n",
    "    for i in a:\n",
    "        for j in i:\n",
    "            b.append(j)\n",
    "    print(*b[:n])\n",
    "else:\n",
    "    print(1)\n",
    "    \n",
    "'''Напишите программу, которая выводит часть\n",
    "последовательности 1 2 2 3 3 3 4 4 4 4 5 5 5 5 5 ...\n",
    "(число повторяется столько раз, чему равно). На вход\n",
    "программе передаётся неотрицательное целое число n —\n",
    "столько элементов последовательности должна отобразить\n",
    "программа. На выходе ожидается последовательность\n",
    "чисел, записанных через пробел в одну строку.'''"
   ]
  },
  {
   "cell_type": "code",
   "execution_count": null,
   "id": "f254573f",
   "metadata": {},
   "outputs": [],
   "source": []
  },
  {
   "cell_type": "code",
   "execution_count": null,
   "id": "a39aea63",
   "metadata": {},
   "outputs": [],
   "source": []
  },
  {
   "cell_type": "code",
   "execution_count": null,
   "id": "3f0b2456",
   "metadata": {},
   "outputs": [],
   "source": []
  }
 ],
 "metadata": {
  "kernelspec": {
   "display_name": "Python 3",
   "language": "python",
   "name": "python3"
  },
  "language_info": {
   "codemirror_mode": {
    "name": "ipython",
    "version": 3
   },
   "file_extension": ".py",
   "mimetype": "text/x-python",
   "name": "python",
   "nbconvert_exporter": "python",
   "pygments_lexer": "ipython3",
   "version": "3.9.5"
  }
 },
 "nbformat": 4,
 "nbformat_minor": 5
}
