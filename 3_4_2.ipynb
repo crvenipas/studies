{
 "cells": [
  {
   "cell_type": "code",
   "execution_count": 49,
   "id": "08ab4109",
   "metadata": {},
   "outputs": [
    {
     "name": "stdout",
     "output_type": "stream",
     "text": [
      "u 11\n"
     ]
    }
   ],
   "source": [
    "with open('dataset_3363.txt') as f:\n",
    "    text = f.read().lower().split()\n",
    "    \n",
    "popular_word = max(set(text), key=text.count)\n",
    "\n",
    "print(popular_word, text.count(popular_word))"
   ]
  },
  {
   "cell_type": "code",
   "execution_count": null,
   "id": "84a34271",
   "metadata": {},
   "outputs": [],
   "source": []
  }
 ],
 "metadata": {
  "kernelspec": {
   "display_name": "Python 3",
   "language": "python",
   "name": "python3"
  },
  "language_info": {
   "codemirror_mode": {
    "name": "ipython",
    "version": 3
   },
   "file_extension": ".py",
   "mimetype": "text/x-python",
   "name": "python",
   "nbconvert_exporter": "python",
   "pygments_lexer": "ipython3",
   "version": "3.9.5"
  }
 },
 "nbformat": 4,
 "nbformat_minor": 5
}
