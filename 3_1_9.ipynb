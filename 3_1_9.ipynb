{
 "cells": [
  {
   "cell_type": "code",
   "execution_count": 21,
   "id": "7293d305",
   "metadata": {},
   "outputs": [
    {
     "data": {
      "text/plain": [
       "'Напишите функцию modify_list(l), \\nкоторая принимает на вход список целых чисел,\\nудаляет из него все нечётные значения, \\nа чётные нацело делит на два.'"
      ]
     },
     "execution_count": 21,
     "metadata": {},
     "output_type": "execute_result"
    }
   ],
   "source": [
    "def modify_list(l):\n",
    "    n = len(l)\n",
    "    i = 0\n",
    "    while i < n:\n",
    "        if l[i] % 2 != 0:\n",
    "            l.pop(i)\n",
    "            n -= 1\n",
    "        else:\n",
    "            l[i] = l[i] // 2\n",
    "            i += 1\n",
    "\n",
    "            \n",
    "'''Напишите функцию modify_list(l), \n",
    "которая принимает на вход список целых чисел,\n",
    "удаляет из него все нечётные значения, \n",
    "а чётные нацело делит на два.'''"
   ]
  },
  {
   "cell_type": "code",
   "execution_count": null,
   "id": "4d2b7f86",
   "metadata": {},
   "outputs": [],
   "source": []
  }
 ],
 "metadata": {
  "kernelspec": {
   "display_name": "Python 3",
   "language": "python",
   "name": "python3"
  },
  "language_info": {
   "codemirror_mode": {
    "name": "ipython",
    "version": 3
   },
   "file_extension": ".py",
   "mimetype": "text/x-python",
   "name": "python",
   "nbconvert_exporter": "python",
   "pygments_lexer": "ipython3",
   "version": "3.9.5"
  }
 },
 "nbformat": 4,
 "nbformat_minor": 5
}
