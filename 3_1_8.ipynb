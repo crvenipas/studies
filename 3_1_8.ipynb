{
 "cells": [
  {
   "cell_type": "code",
   "execution_count": 2,
   "id": "e57f3ca1",
   "metadata": {},
   "outputs": [
    {
     "data": {
      "text/plain": [
       "-5.25"
      ]
     },
     "execution_count": 2,
     "metadata": {},
     "output_type": "execute_result"
    }
   ],
   "source": [
    "def f(x):\n",
    "    if x <= -2:\n",
    "        return 1 - (x + 2) ** 2\n",
    "    elif x <= 2:\n",
    "        return -x / 2\n",
    "    else:\n",
    "        return (x - 2) ** 2 + 1\n",
    "    \n",
    "f(-4.5)"
   ]
  },
  {
   "cell_type": "code",
   "execution_count": null,
   "id": "f06d6b4a",
   "metadata": {},
   "outputs": [],
   "source": []
  }
 ],
 "metadata": {
  "kernelspec": {
   "display_name": "Python 3",
   "language": "python",
   "name": "python3"
  },
  "language_info": {
   "codemirror_mode": {
    "name": "ipython",
    "version": 3
   },
   "file_extension": ".py",
   "mimetype": "text/x-python",
   "name": "python",
   "nbconvert_exporter": "python",
   "pygments_lexer": "ipython3",
   "version": "3.9.5"
  }
 },
 "nbformat": 4,
 "nbformat_minor": 5
}
